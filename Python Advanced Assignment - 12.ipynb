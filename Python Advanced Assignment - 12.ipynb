{
 "cells": [
  {
   "cell_type": "markdown",
   "id": "f19eba43",
   "metadata": {},
   "source": [
    "# Python Advanced Assignment - 12"
   ]
  },
  {
   "cell_type": "markdown",
   "id": "e44709e2",
   "metadata": {},
   "source": [
    "# 1). Does assigning a value to a string's indexed character violate Python's string immutability?"
   ]
  },
  {
   "cell_type": "markdown",
   "id": "8ebb82fb",
   "metadata": {},
   "source": [
    "Yes, Strings are immutable"
   ]
  },
  {
   "cell_type": "markdown",
   "id": "1f9345ab",
   "metadata": {},
   "source": [
    "# 2). Does using the += operator to concatenate strings violate Python's string immutability? Why or why not?"
   ]
  },
  {
   "cell_type": "markdown",
   "id": "8ba27e91",
   "metadata": {},
   "source": [
    "Yes"
   ]
  },
  {
   "cell_type": "markdown",
   "id": "ebdb86ce",
   "metadata": {},
   "source": [
    "# 3). In Python, how many different ways are there to index a character?"
   ]
  },
  {
   "cell_type": "markdown",
   "id": "bf9d9b35",
   "metadata": {},
   "source": [
    "2 ways, Basic indexing and Advanced indexing"
   ]
  },
  {
   "cell_type": "markdown",
   "id": "26a4a026",
   "metadata": {},
   "source": [
    "# 4). What is the relationship between indexing and slicing?"
   ]
  },
  {
   "cell_type": "markdown",
   "id": "38a0a1ec",
   "metadata": {},
   "source": [
    "Indexing : Here we pick the values at a particular index with the index value.                                                 \n",
    "slicing : Here we pich a range/subset of values using index values."
   ]
  },
  {
   "cell_type": "markdown",
   "id": "a7fb3adf",
   "metadata": {},
   "source": [
    "# 5). What is an indexed character's exact data type? What is the data form of a slicing-generated substring?"
   ]
  },
  {
   "cell_type": "markdown",
   "id": "ed61b4bb",
   "metadata": {},
   "source": [
    "String"
   ]
  },
  {
   "cell_type": "markdown",
   "id": "8de0afdd",
   "metadata": {},
   "source": [
    "# 6). What is the relationship between string and character \"types\" in Python?"
   ]
  },
  {
   "cell_type": "markdown",
   "id": "020c8572",
   "metadata": {},
   "source": [
    "In python there is no character data type, a single char is simply a string of length 1 "
   ]
  },
  {
   "cell_type": "markdown",
   "id": "f101d016",
   "metadata": {},
   "source": [
    "# 7). Identify at least two operators and one method that allow you to combine one or more smaller strings to create a larger string."
   ]
  },
  {
   "cell_type": "markdown",
   "id": "c12dfd08",
   "metadata": {},
   "source": [
    "Operator is +=  and method is join"
   ]
  },
  {
   "cell_type": "markdown",
   "id": "03664ed1",
   "metadata": {},
   "source": [
    "# What is the benefit of first checking the target string with in or not in before using the index method to find a substring?"
   ]
  },
  {
   "cell_type": "markdown",
   "id": "07c66e16",
   "metadata": {},
   "source": [
    "To check whether substring can be formed from that index or not"
   ]
  },
  {
   "cell_type": "markdown",
   "id": "9f163a10",
   "metadata": {},
   "source": [
    "# Which operators and built-in string methods produce simple Boolean (true/false) results?"
   ]
  },
  {
   "cell_type": "markdown",
   "id": "2a472917",
   "metadata": {},
   "source": [
    "Comparison Operators "
   ]
  },
  {
   "cell_type": "code",
   "execution_count": null,
   "id": "d907508e",
   "metadata": {},
   "outputs": [],
   "source": []
  }
 ],
 "metadata": {
  "kernelspec": {
   "display_name": "Python 3 (ipykernel)",
   "language": "python",
   "name": "python3"
  },
  "language_info": {
   "codemirror_mode": {
    "name": "ipython",
    "version": 3
   },
   "file_extension": ".py",
   "mimetype": "text/x-python",
   "name": "python",
   "nbconvert_exporter": "python",
   "pygments_lexer": "ipython3",
   "version": "3.9.12"
  }
 },
 "nbformat": 4,
 "nbformat_minor": 5
}
