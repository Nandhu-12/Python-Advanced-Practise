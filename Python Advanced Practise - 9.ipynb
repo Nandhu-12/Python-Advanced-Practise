{
 "cells": [
  {
   "cell_type": "markdown",
   "id": "668d1b27",
   "metadata": {},
   "source": [
    "# Python Advanced Assignment - 9"
   ]
  },
  {
   "cell_type": "markdown",
   "id": "e8d82855",
   "metadata": {},
   "source": [
    "1) In Python 3.X, what are the names and functions of string object types?"
   ]
  },
  {
   "cell_type": "markdown",
   "id": "a0c390ab",
   "metadata": {},
   "source": [
    "str.capitalize(), str.casefold(), str.center(), str.count(),str.encode(), str.endswith(), str.expandtabs(), str.find(),         \n",
    "str.format(), str.format_map(), str.index(), str.isalnum(), str.isalpha(), str.isascii(), str.isdecimal(), str.isdigit(),       \n",
    "str.isidentifier(), str.islower(), str.isnumeric(), str.isprintable(), str.isspace(), str.istitle(), str.isupper(), str.join(), \n",
    "str.ljust(), str.lower(), str.lstrip(), str.maketrans(), str.partition(), str.removeprefix(), str.removesuffix(), str.replace(),\n",
    "str.rfind(), str.rindex(), str.rjust(), str.rpartition(), str.rsplit(), str.rstrip(), str.split(), str.splitlines(),            \n",
    "str.startswith(), str.strip(), str.swapcase(), str.title(), str.translate(), str.upper(), str.zfill()"
   ]
  },
  {
   "cell_type": "markdown",
   "id": "565437b7",
   "metadata": {},
   "source": [
    "2) How do the string forms in Python 3.X vary in terms of operations?"
   ]
  },
  {
   "cell_type": "markdown",
   "id": "038f4bf0",
   "metadata": {},
   "source": [
    "string.ascii_letters, string.digits, string.hexdigits, string.octdigit, string.punctuation, string.printable, string.whitespace"
   ]
  },
  {
   "cell_type": "markdown",
   "id": "641ad727",
   "metadata": {},
   "source": [
    "3) In 3.X, how do you put non-ASCII Unicode characters in a string?"
   ]
  },
  {
   "cell_type": "markdown",
   "id": "16178e7d",
   "metadata": {},
   "source": [
    "We can use unidecode() to put non-ASCII Unicode characters in a string"
   ]
  },
  {
   "cell_type": "markdown",
   "id": "c3a37cba",
   "metadata": {},
   "source": [
    "4) In Python 3.X, what are the key differences between text-mode and binary-mode files?"
   ]
  },
  {
   "cell_type": "markdown",
   "id": "c149a358",
   "metadata": {},
   "source": [
    "In text mode, the program writes data to file as text characters, and in binary mode, the program writes data to files as 0/1 bits"
   ]
  },
  {
   "cell_type": "markdown",
   "id": "56a5d5b7",
   "metadata": {},
   "source": [
    "5) How can you interpret a Unicode text file containing text encoded in a different encoding than\n",
    "your platform's default?"
   ]
  },
  {
   "cell_type": "markdown",
   "id": "f24a3f4d",
   "metadata": {},
   "source": [
    "Using UTF-8"
   ]
  },
  {
   "cell_type": "markdown",
   "id": "c7e8b73d",
   "metadata": {},
   "source": [
    "6) What is the best way to make a Unicode text file in a particular encoding format?"
   ]
  },
  {
   "cell_type": "markdown",
   "id": "ab396b41",
   "metadata": {},
   "source": [
    "Using codecs.open() or manually open() and encode"
   ]
  },
  {
   "cell_type": "markdown",
   "id": "aa330e9c",
   "metadata": {},
   "source": [
    "7) What qualifies ASCII text as a form of Unicode text?"
   ]
  },
  {
   "cell_type": "markdown",
   "id": "afaba4fd",
   "metadata": {},
   "source": [
    "Ascii codes 0-127 are identical to unicode"
   ]
  }
 ],
 "metadata": {
  "kernelspec": {
   "display_name": "Python 3 (ipykernel)",
   "language": "python",
   "name": "python3"
  },
  "language_info": {
   "codemirror_mode": {
    "name": "ipython",
    "version": 3
   },
   "file_extension": ".py",
   "mimetype": "text/x-python",
   "name": "python",
   "nbconvert_exporter": "python",
   "pygments_lexer": "ipython3",
   "version": "3.9.12"
  }
 },
 "nbformat": 4,
 "nbformat_minor": 5
}
