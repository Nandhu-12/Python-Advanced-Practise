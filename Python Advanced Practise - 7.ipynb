{
 "cells": [
  {
   "cell_type": "markdown",
   "id": "c6aed1e4",
   "metadata": {},
   "source": [
    "# Python Advanced Practise - 7"
   ]
  },
  {
   "cell_type": "markdown",
   "id": "127449e8",
   "metadata": {},
   "source": [
    "# Q1. What is the purpose of the try statement?"
   ]
  },
  {
   "cell_type": "markdown",
   "id": "51ab395e",
   "metadata": {},
   "source": [
    "Inside try Statement we will be putting the codes that is having the chances of getting exceptions"
   ]
  },
  {
   "cell_type": "markdown",
   "id": "ec217a52",
   "metadata": {},
   "source": [
    "# Q2. What are the two most popular try statement variations?"
   ]
  },
  {
   "cell_type": "markdown",
   "id": "d8d5b58c",
   "metadata": {},
   "source": [
    "else and finally"
   ]
  },
  {
   "cell_type": "markdown",
   "id": "318b2c87",
   "metadata": {},
   "source": [
    "# Q3. What is the purpose of the raise statement?"
   ]
  },
  {
   "cell_type": "markdown",
   "id": "e977bde8",
   "metadata": {},
   "source": [
    "Raise statement allows us to raise exception immediately at any point in the code even inside try block"
   ]
  },
  {
   "cell_type": "markdown",
   "id": "8df777bf",
   "metadata": {},
   "source": [
    "# Q4. What does the assert statement do, and what other statement is it like?"
   ]
  },
  {
   "cell_type": "markdown",
   "id": "4411511e",
   "metadata": {},
   "source": [
    "assert Statement check the condition and if it is true, it does nothing. If not true then it raises the AssertionError"
   ]
  },
  {
   "cell_type": "markdown",
   "id": "c7d5b2ac",
   "metadata": {},
   "source": [
    "# Q5. What is the purpose of the with/as argument, and what other statement is it like?"
   ]
  },
  {
   "cell_type": "markdown",
   "id": "e65c3057",
   "metadata": {},
   "source": [
    "Instead of using try/except block, we can use with statement."
   ]
  },
  {
   "cell_type": "code",
   "execution_count": null,
   "id": "b4dc3799",
   "metadata": {},
   "outputs": [],
   "source": []
  }
 ],
 "metadata": {
  "kernelspec": {
   "display_name": "Python 3 (ipykernel)",
   "language": "python",
   "name": "python3"
  },
  "language_info": {
   "codemirror_mode": {
    "name": "ipython",
    "version": 3
   },
   "file_extension": ".py",
   "mimetype": "text/x-python",
   "name": "python",
   "nbconvert_exporter": "python",
   "pygments_lexer": "ipython3",
   "version": "3.9.12"
  }
 },
 "nbformat": 4,
 "nbformat_minor": 5
}
