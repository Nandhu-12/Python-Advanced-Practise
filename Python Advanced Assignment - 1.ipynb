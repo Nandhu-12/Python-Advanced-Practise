{
 "cells": [
  {
   "cell_type": "markdown",
   "id": "63f3ef27",
   "metadata": {},
   "source": [
    "# Python Advanced Assignment - 1"
   ]
  },
  {
   "cell_type": "markdown",
   "id": "ec83f5f4",
   "metadata": {},
   "source": [
    "# Q1. What is the purpose of Python's OOP?"
   ]
  },
  {
   "cell_type": "markdown",
   "id": "8d081c50",
   "metadata": {},
   "source": [
    "The Purpose of OOPS in python is to have the modular and structural code, easy to implement and reusability"
   ]
  },
  {
   "cell_type": "markdown",
   "id": "13fa9e4c",
   "metadata": {},
   "source": [
    "# Q2. Where does an inheritance search look for an attribute?"
   ]
  },
  {
   "cell_type": "markdown",
   "id": "88d97b27",
   "metadata": {},
   "source": [
    "First the inheritance search looks in the instance of the class, then the class for which the instance is created and finally from all higher superclasses "
   ]
  },
  {
   "cell_type": "markdown",
   "id": "d1272836",
   "metadata": {},
   "source": [
    "# Q3. How do you distinguish between a class and an instance object?"
   ]
  },
  {
   "cell_type": "markdown",
   "id": "c64149ea",
   "metadata": {},
   "source": [
    "Class is place where we put all the logic of the code with many methods and variables, It is created with the keyword class.                                          \n",
    "objects are the instance of the class, where we can call the class and use the logic inside it."
   ]
  },
  {
   "cell_type": "markdown",
   "id": "a4bd18ad",
   "metadata": {},
   "source": [
    "# Q4. What makes the first argument in a class’s method function special?"
   ]
  },
  {
   "cell_type": "markdown",
   "id": "0be60e7d",
   "metadata": {},
   "source": [
    "The first Argument in a class method is Self and whenever we call the method, the instance of the class is automatically passed as a first Argument along with all other Arguments of the method."
   ]
  },
  {
   "cell_type": "markdown",
   "id": "dc61a874",
   "metadata": {},
   "source": [
    "# Q5. What is the purpose of the _ _init_ _ method?"
   ]
  },
  {
   "cell_type": "markdown",
   "id": "c3653684",
   "metadata": {},
   "source": [
    "_ _init_ _method is used by default whenever we create a class and it is done because we initialize the Arguments used in class only here"
   ]
  },
  {
   "cell_type": "markdown",
   "id": "7270c4f6",
   "metadata": {},
   "source": [
    "# Q6. What is the process for creating a class instance?"
   ]
  },
  {
   "cell_type": "code",
   "execution_count": 17,
   "id": "7f307a50",
   "metadata": {},
   "outputs": [],
   "source": [
    "class color():\n",
    "    def __init__(self,col1,col2):\n",
    "        self.col1 = col1\n",
    "        self.col2 = col2\n",
    "    \n",
    "    def display(self):\n",
    "        print(self.col1)\n",
    "        \n",
    "wow = color('blackish blue','darkgreen')"
   ]
  },
  {
   "cell_type": "code",
   "execution_count": 18,
   "id": "6d08648f",
   "metadata": {},
   "outputs": [
    {
     "name": "stdout",
     "output_type": "stream",
     "text": [
      "blackish blue\n"
     ]
    }
   ],
   "source": [
    "wow.display()"
   ]
  },
  {
   "cell_type": "markdown",
   "id": "dde7fa25",
   "metadata": {},
   "source": [
    "here 'wow' is the instance of class 'color' and 'display' is the method inside the class color"
   ]
  },
  {
   "cell_type": "markdown",
   "id": "796e18c2",
   "metadata": {},
   "source": [
    "# Q7. What is the process for creating a class?"
   ]
  },
  {
   "cell_type": "code",
   "execution_count": 19,
   "id": "04ff56f2",
   "metadata": {},
   "outputs": [],
   "source": [
    "class color():\n",
    "    def __init__(self,col1,col2):\n",
    "        self.col1 = col1\n",
    "        self.col2 = col2\n",
    "    \n",
    "    def display(self):\n",
    "        print(self.col1)\n",
    "        \n",
    "wow = color('blackish blue','darkgreen')"
   ]
  },
  {
   "cell_type": "markdown",
   "id": "b7108fdf",
   "metadata": {},
   "source": [
    "class is created using 'class' keyword. Here 'color' is the class"
   ]
  },
  {
   "cell_type": "markdown",
   "id": "1459647e",
   "metadata": {},
   "source": [
    "# Q8. How would you define the superclasses of a class?"
   ]
  },
  {
   "cell_type": "markdown",
   "id": "5a499db2",
   "metadata": {},
   "source": [
    "Superclass is a class from which we can derive many subclasses with the characteristic of superclass. It is also known as Parent class or base class."
   ]
  },
  {
   "cell_type": "code",
   "execution_count": null,
   "id": "6a4feb63",
   "metadata": {},
   "outputs": [],
   "source": []
  }
 ],
 "metadata": {
  "kernelspec": {
   "display_name": "Python 3 (ipykernel)",
   "language": "python",
   "name": "python3"
  },
  "language_info": {
   "codemirror_mode": {
    "name": "ipython",
    "version": 3
   },
   "file_extension": ".py",
   "mimetype": "text/x-python",
   "name": "python",
   "nbconvert_exporter": "python",
   "pygments_lexer": "ipython3",
   "version": "3.9.12"
  }
 },
 "nbformat": 4,
 "nbformat_minor": 5
}
